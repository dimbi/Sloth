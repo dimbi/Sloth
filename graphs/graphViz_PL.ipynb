{
 "cells": [
  {
   "cell_type": "code",
   "execution_count": 28,
   "metadata": {
    "collapsed": true
   },
   "outputs": [],
   "source": [
    "import graph_tool.all as gt\n",
    "import math\n",
    "import numpy as np\n",
    "import cPickle as pickle"
   ]
  },
  {
   "cell_type": "code",
   "execution_count": 2,
   "metadata": {
    "collapsed": true
   },
   "outputs": [],
   "source": [
    "def save_object(obj, filename):\n",
    "    with open(filename, 'wb') as output:\n",
    "        pickle.dump(obj, output, pickle.HIGHEST_PROTOCOL)\n",
    "        \n",
    "def load_object(filename):\n",
    "    \n",
    "    with open(filename, 'rb') as input:\n",
    "        out = pickle.load(input)\n",
    "\n",
    "    return out"
   ]
  },
  {
   "cell_type": "code",
   "execution_count": 45,
   "metadata": {
    "collapsed": false
   },
   "outputs": [],
   "source": [
    "# nested block model\n",
    "state = load_object('graph14_pagerank_purge_5e-5_nested.pk1')\n",
    "\n",
    "# underlying graph\n",
    "g = state.g"
   ]
  },
  {
   "cell_type": "code",
   "execution_count": 18,
   "metadata": {
    "collapsed": false
   },
   "outputs": [],
   "source": [
    "# min spanning tree\n",
    "mst = gt.min_spanning_tree(g)"
   ]
  },
  {
   "cell_type": "code",
   "execution_count": 26,
   "metadata": {
    "collapsed": false
   },
   "outputs": [
    {
     "data": {
      "text/plain": [
       "<PropertyMap object with key type 'Vertex' and value type 'vector<double>', for Graph 0x7fc7d4e9b410, at 0x7fc7d4dfcb50>"
      ]
     },
     "execution_count": 26,
     "metadata": {},
     "output_type": "execute_result"
    }
   ],
   "source": [
    "g.set_edge_filter(mst)\n",
    "\n",
    "# posiiton\n",
    "pos = gt.sfdp_layout(g, C = 10, K = 10, p = 2)\n",
    "\n",
    "# draw graph\n",
    "gt.graph_draw(g,\n",
    "              inline = False,\n",
    "              vertex_text = g.vertex_properties['label'],\n",
    "              vertex_font_size = 10,\n",
    "              vertex_text_position = 1.5,\n",
    "              output_size = (4060,4060),\n",
    "              output = 'mst.png',\n",
    "              bg_color=[0,0,0,1])"
   ]
  },
  {
   "cell_type": "code",
   "execution_count": 44,
   "metadata": {
    "collapsed": false
   },
   "outputs": [
    {
     "data": {
      "text/plain": [
       "(<PropertyMap object with key type 'Vertex' and value type 'vector<double>', for Graph 0x7fc7c112f150, at 0x7fc78c219d10>,\n",
       " <GraphView object, directed, with 18 vertices and 17 edges, edges filtered by (<PropertyMap object with key type 'Edge' and value type 'bool', for Graph 0x7fc78c219910, at 0x7fc78c219b90, with values:\n",
       " [1 1 1 1 1 1 1 1 1 1 1 1 1 1 1 1 1]>, False), vertices filtered by (<PropertyMap object with key type 'Vertex' and value type 'bool', for Graph 0x7fc78c219910, at 0x7fc78c219b50, with values:\n",
       " [1 1 1 1 1 1 1 1 1 1 1 1 1 1 1 1 1 1]>, False) at 0x7fc78c219910>,\n",
       " <PropertyMap object with key type 'Vertex' and value type 'vector<double>', for Graph 0x7fc78c219810, at 0x7fc78c219490>)"
      ]
     },
     "execution_count": 44,
     "metadata": {},
     "output_type": "execute_result"
    }
   ],
   "source": [
    "t = gt.get_hierarchy_tree(state)[0]\n",
    "\n",
    "pos = gt.radial_tree_layout(t, t.vertex(t.num_vertices() - 1), weighted=True)\n",
    "tpos = gt.radial_tree_layout(t, t.vertex(t.num_vertices() - 1), weighted=True)\n",
    "\n",
    "pos = g.own_property(tpos)\n",
    "text_rot = g.new_vertex_property('double')\n",
    "g.vertex_properties['text_rot'] = text_rot\n",
    "\n",
    "for v in g.vertices():\n",
    "    if pos[v][0] > 0:\n",
    "        text_rot[v] = math.atan(pos[v][1]/pos[v][0])\n",
    "    else:\n",
    "        text_rot[v] = math.pi + math.atan(pos[v][1]/pos[v][0])\n",
    "\n",
    "gt.draw_hierarchy(state,\n",
    "                  pos = pos,\n",
    "                  inline = False,\n",
    "                  vertex_text = g.vertex_properties['label'], \n",
    "                  vertex_font_size = 10,\n",
    "                  vertex_text_position = 0, \n",
    "                  vertex_text_rotation=g.vertex_properties['text_rot'],\n",
    "                  output_size = (1000,1000),\n",
    "                  output = 'nest.png',\n",
    "                  bg_color=[1,1,1,1])"
   ]
  }
 ],
 "metadata": {
  "kernelspec": {
   "display_name": "Python 2",
   "language": "python",
   "name": "python2"
  },
  "language_info": {
   "codemirror_mode": {
    "name": "ipython",
    "version": 2
   },
   "file_extension": ".py",
   "mimetype": "text/x-python",
   "name": "python",
   "nbconvert_exporter": "python",
   "pygments_lexer": "ipython2",
   "version": "2.7.6"
  }
 },
 "nbformat": 4,
 "nbformat_minor": 0
}
